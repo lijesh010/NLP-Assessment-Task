{
 "cells": [
  {
   "cell_type": "markdown",
   "id": "80a62ace",
   "metadata": {},
   "source": [
    "# NLP Assessment "
   ]
  },
  {
   "cell_type": "markdown",
   "id": "02163391",
   "metadata": {},
   "source": [
    "## Q1). Copy the next paragraph and answer the questions that follow: \n",
    "\n",
    "For decades the All-India Congress under the leadership of Mohandas K. \n",
    "Gandhi struggled to rally the millions of British-ruled peoples in the Indian subcontinent. Like \n",
    "similar movements in other countries, it early felt the need for a distinctive symbol that could \n",
    "represent  its  nationalist  objectives.  In  1921  a  university  lecturer  named  Pingali  (or  Pinglay) \n",
    "Venkayya presented a flag design to Gandhi that consisted of the colours associated with the \n",
    "two  principal  religions,  red  for  the  Hindus  and  green  for  the  Muslims.  To  the  centre  of  the \n",
    "horizontally  divided  flag,  Lala  Hans  Raj  Sondhi  suggested  the  addition  of  the  traditional \n",
    "spinning wheel, which was associated with Gandhi’s crusade to make Indians self-reliant by \n",
    "fabricating their own clothing from local fibres.       \n",
    "Gandhi modified the flag by adding a white stripe in the centre for the other religious \n",
    "communities in India, thus also providing a clearly visible background for the spinning wheel. \n",
    "In May 1923 at Nagpur, during peaceful protests against British rule, the flag was carried by \n",
    "thousands of people, hundreds of whom were arrested. The Congress flag came to be associated \n",
    "with nationhood for India, and it was officially recognized at the annual meeting of the party \n",
    "in August 1931. At the same time, the current arrangement of stripes and the use of deep saffron \n",
    "instead of red were approved. To avoid the sectarian associations of the original proposal, new \n",
    "attributions were associated with the saffron, white, and green stripes. They were said to stand \n",
    "for, respectively, courage and sacrifice, peace and truth, and faith and chivalry. During World \n",
    "War  II Subhas  Chandra  Bose used  this  flag  (without  the  spinning  wheel)  in  territories  his \n",
    "Japanese-aided army had captured."
   ]
  },
  {
   "cell_type": "markdown",
   "id": "18e9e518",
   "metadata": {},
   "source": [
    "### a). Word_tokenise and sent_tokenise"
   ]
  },
  {
   "cell_type": "code",
   "execution_count": 4,
   "id": "425dd965",
   "metadata": {},
   "outputs": [
    {
     "name": "stderr",
     "output_type": "stream",
     "text": [
      "[nltk_data] Downloading package punkt to\n",
      "[nltk_data]     C:\\Users\\ACER\\AppData\\Roaming\\nltk_data...\n",
      "[nltk_data]   Package punkt is already up-to-date!\n"
     ]
    },
    {
     "data": {
      "text/plain": [
       "True"
      ]
     },
     "execution_count": 4,
     "metadata": {},
     "output_type": "execute_result"
    }
   ],
   "source": [
    "import nltk\n",
    "nltk.download('punkt')"
   ]
  },
  {
   "cell_type": "code",
   "execution_count": 8,
   "id": "4f90fd21",
   "metadata": {
    "scrolled": false
   },
   "outputs": [
    {
     "name": "stdout",
     "output_type": "stream",
     "text": [
      "['For', 'decades', 'the', 'All-India', 'Congress', 'under', 'the', 'leadership', 'of', 'Mohandas', 'K.', 'Gandhi', 'struggled', 'to', 'rally', 'the', 'millions', 'of', 'British-ruled', 'peoples', 'in', 'the', 'Indian', 'subcontinent', '.', 'Like', 'similar', 'movements', 'in', 'other', 'countries', ',', 'it', 'early', 'felt', 'the', 'need', 'for', 'a', 'distinctive', 'symbol', 'that', 'could', 'represent', 'its', 'nationalist', 'objectives', '.', 'In', '1921', 'a', 'university', 'lecturer', 'named', 'Pingali', '(', 'or', 'Pinglay', ')', 'Venkayya', 'presented', 'a', 'flag', 'design', 'to', 'Gandhi', 'that', 'consisted', 'of', 'the', 'colours', 'associated', 'with', 'the', 'two', 'principal', 'religions', ',', 'red', 'for', 'the', 'Hindus', 'and', 'green', 'for', 'the', 'Muslims', '.', 'To', 'the', 'centre', 'of', 'the', 'horizontally', 'divided', 'flag', ',', 'Lala', 'Hans', 'Raj', 'Sondhi', 'suggested', 'the', 'addition', 'of', 'the', 'traditional', 'spinning', 'wheel', ',', 'which', 'was', 'associated', 'with', 'Gandhi', '’', 's', 'crusade', 'to', 'make', 'Indians', 'self-reliant', 'by', 'fabricating', 'their', 'own', 'clothing', 'from', 'local', 'fibres', '.', 'Gandhi', 'modified', 'the', 'flag', 'by', 'adding', 'a', 'white', 'stripe', 'in', 'the', 'centre', 'for', 'the', 'other', 'religious', 'communities', 'in', 'India', ',', 'thus', 'also', 'providing', 'a', 'clearly', 'visible', 'background', 'for', 'the', 'spinning', 'wheel', '.', 'In', 'May', '1923', 'at', 'Nagpur', ',', 'during', 'peaceful', 'protests', 'against', 'British', 'rule', ',', 'the', 'flag', 'was', 'carried', 'by', 'thousands', 'of', 'people', ',', 'hundreds', 'of', 'whom', 'were', 'arrested', '.', 'The', 'Congress', 'flag', 'came', 'to', 'be', 'associated', 'with', 'nationhood', 'for', 'India', ',', 'and', 'it', 'was', 'officially', 'recognized', 'at', 'the', 'annual', 'meeting', 'of', 'the', 'party', 'in', 'August', '1931', '.', 'At', 'the', 'same', 'time', ',', 'the', 'current', 'arrangement', 'of', 'stripes', 'and', 'the', 'use', 'of', 'deep', 'saffron', 'instead', 'of', 'red', 'were', 'approved', '.', 'To', 'avoid', 'the', 'sectarian', 'associations', 'of', 'the', 'original', 'proposal', ',', 'new', 'attributions', 'were', 'associated', 'with', 'the', 'saffron', ',', 'white', ',', 'and', 'green', 'stripes', '.', 'They', 'were', 'said', 'to', 'stand', 'for', ',', 'respectively', ',', 'courage', 'and', 'sacrifice', ',', 'peace', 'and', 'truth', ',', 'and', 'faith', 'and', 'chivalry', '.', 'During', 'World', 'War', 'II', 'Subhas', 'Chandra', 'Bose', 'used', 'this', 'flag', '(', 'without', 'the', 'spinning', 'wheel', ')', 'in', 'territories', 'his', 'Japanese-aided', 'army', 'had', 'captured', '.']\n"
     ]
    }
   ],
   "source": [
    "from nltk.tokenize import word_tokenize\n",
    "\n",
    "corpus=\"\"\"For decades the All-India Congress under the leadership of Mohandas K. Gandhi struggled to rally the millions of British-ruled peoples in the Indian subcontinent. Like similar movements in other countries, it early felt the need for a distinctive symbol that could represent its nationalist objectives. In 1921 a university lecturer named Pingali (or Pinglay) Venkayya presented a flag design to Gandhi that consisted of the colours associated with the two principal religions, red for the Hindus and green for the Muslims. To the centre of the horizontally divided flag, Lala Hans Raj Sondhi suggested the addition of the traditional spinning wheel, which was associated with Gandhi’s crusade to make Indians self-reliant by fabricating their own clothing from local fibres.\n",
    "Gandhi modified the flag by adding a white stripe in the centre for the other religious communities in India, thus also providing a clearly visible background for the spinning wheel. In May 1923 at Nagpur, during peaceful protests against British rule, the flag was carried by thousands of people, hundreds of whom were arrested. The Congress flag came to be associated with nationhood for India, and it was officially recognized at the annual meeting of the party in August 1931. At the same time, the current arrangement of stripes and the use of deep saffron instead of red were approved. To avoid the sectarian associations of the original proposal, new attributions were associated with the saffron, white, and green stripes. They were said to stand for, respectively, courage and sacrifice, peace and truth, and faith and chivalry. During World War II Subhas Chandra Bose used this flag (without the spinning wheel) in territories his Japanese-aided army had captured.\"\"\"\n",
    "\n",
    "#word_tokenize\n",
    "print(word_tokenize(corpus))"
   ]
  },
  {
   "cell_type": "code",
   "execution_count": 9,
   "id": "c43407f1",
   "metadata": {},
   "outputs": [
    {
     "name": "stdout",
     "output_type": "stream",
     "text": [
      "['For decades the All-India Congress under the leadership of Mohandas K. Gandhi struggled to rally the millions of British-ruled peoples in the Indian subcontinent.', 'Like similar movements in other countries, it early felt the need for a distinctive symbol that could represent its nationalist objectives.', 'In 1921 a university lecturer named Pingali (or Pinglay) Venkayya presented a flag design to Gandhi that consisted of the colours associated with the two principal religions, red for the Hindus and green for the Muslims.', 'To the centre of the horizontally divided flag, Lala Hans Raj Sondhi suggested the addition of the traditional spinning wheel, which was associated with Gandhi’s crusade to make Indians self-reliant by fabricating their own clothing from local fibres.', 'Gandhi modified the flag by adding a white stripe in the centre for the other religious communities in India, thus also providing a clearly visible background for the spinning wheel.', 'In May 1923 at Nagpur, during peaceful protests against British rule, the flag was carried by thousands of people, hundreds of whom were arrested.', 'The Congress flag came to be associated with nationhood for India, and it was officially recognized at the annual meeting of the party in August 1931.', 'At the same time, the current arrangement of stripes and the use of deep saffron instead of red were approved.', 'To avoid the sectarian associations of the original proposal, new attributions were associated with the saffron, white, and green stripes.', 'They were said to stand for, respectively, courage and sacrifice, peace and truth, and faith and chivalry.', 'During World War II Subhas Chandra Bose used this flag (without the spinning wheel) in territories his Japanese-aided army had captured.']\n"
     ]
    }
   ],
   "source": [
    "#sent_tokenize\n",
    "from nltk.tokenize import sent_tokenize\n",
    "print(sent_tokenize(corpus))"
   ]
  },
  {
   "cell_type": "markdown",
   "id": "29add8f8",
   "metadata": {},
   "source": [
    "### b) Using stop words eliminate most common words, do stemming and lemmatization."
   ]
  },
  {
   "cell_type": "code",
   "execution_count": 11,
   "id": "941fb976",
   "metadata": {},
   "outputs": [
    {
     "name": "stderr",
     "output_type": "stream",
     "text": [
      "[nltk_data] Downloading package stopwords to\n",
      "[nltk_data]     C:\\Users\\ACER\\AppData\\Roaming\\nltk_data...\n",
      "[nltk_data]   Package stopwords is already up-to-date!\n"
     ]
    },
    {
     "data": {
      "text/plain": [
       "True"
      ]
     },
     "execution_count": 11,
     "metadata": {},
     "output_type": "execute_result"
    }
   ],
   "source": [
    "#stopwords### b) Using stop words eliminate most common words, do stemming and lemmatization.\n",
    "nltk.download('stopwords')"
   ]
  },
  {
   "cell_type": "code",
   "execution_count": 16,
   "id": "a08b7396",
   "metadata": {},
   "outputs": [
    {
     "name": "stdout",
     "output_type": "stream",
     "text": [
      "Filtered Sentence:\n",
      "For decades All-India Congress leadership Mohandas K. Gandhi struggled rally millions British-ruled peoples Indian subcontinent . Like similar movements countries , early felt need distinctive symbol could represent nationalist objectives . In 1921 university lecturer named Pingali ( Pinglay ) Venkayya presented flag design Gandhi consisted colours associated two principal religions , red Hindus green Muslims . To centre horizontally divided flag , Lala Hans Raj Sondhi suggested addition traditional spinning wheel , associated Gandhi ’ crusade make Indians self-reliant fabricating clothing local fibres . Gandhi modified flag adding white stripe centre religious communities India , thus also providing clearly visible background spinning wheel . In May 1923 Nagpur , peaceful protests British rule , flag carried thousands people , hundreds arrested . The Congress flag came associated nationhood India , officially recognized annual meeting party August 1931 . At time , current arrangement stripes use deep saffron instead red approved . To avoid sectarian associations original proposal , new attributions associated saffron , white , green stripes . They said stand , respectively , courage sacrifice , peace truth , faith chivalry . During World War II Subhas Chandra Bose used flag ( without spinning wheel ) territories Japanese-aided army captured .\n"
     ]
    }
   ],
   "source": [
    "from nltk.corpus import stopwords\n",
    "stop_words=set(stopwords.words('english'))\n",
    "filtered=[]\n",
    "for word in word_tokens:\n",
    "    if word not in stop_words:\n",
    "            filtered.append(word)\n",
    "print(\"Filtered Sentence:\")\n",
    "print(\" \".join(filtered))\n"
   ]
  },
  {
   "cell_type": "code",
   "execution_count": 34,
   "id": "c22d505b",
   "metadata": {},
   "outputs": [
    {
     "name": "stderr",
     "output_type": "stream",
     "text": [
      "[nltk_data] Downloading package wordnet to\n",
      "[nltk_data]     C:\\Users\\ACER\\AppData\\Roaming\\nltk_data...\n",
      "[nltk_data]   Package wordnet is already up-to-date!\n"
     ]
    },
    {
     "data": {
      "text/plain": [
       "True"
      ]
     },
     "execution_count": 34,
     "metadata": {},
     "output_type": "execute_result"
    }
   ],
   "source": [
    "nltk.download('wordnet')"
   ]
  },
  {
   "cell_type": "code",
   "execution_count": 42,
   "id": "537ce521",
   "metadata": {},
   "outputs": [
    {
     "name": "stdout",
     "output_type": "stream",
     "text": [
      "['For', 'decades', 'All-India', 'Congress', 'leadership', 'Mohandas', 'K.', 'Gandhi', 'struggled', 'rally', 'millions', 'British-ruled', 'peoples', 'Indian', 'subcontinent', '.', 'Like', 'similar', 'movements', 'countries', ',', 'early', 'felt', 'need', 'distinctive', 'symbol', 'could', 'represent', 'nationalist', 'objectives', '.', 'In', '1921', 'university', 'lecturer', 'named', 'Pingali', '(', 'Pinglay', ')', 'Venkayya', 'presented', 'flag', 'design', 'Gandhi', 'consisted', 'colours', 'associated', 'two', 'principal', 'religions', ',', 'red', 'Hindus', 'green', 'Muslims', '.', 'To', 'centre', 'horizontally', 'divided', 'flag', ',', 'Lala', 'Hans', 'Raj', 'Sondhi', 'suggested', 'addition', 'traditional', 'spinning', 'wheel', ',', 'associated', 'Gandhi', '’', 'crusade', 'make', 'Indians', 'self-reliant', 'fabricating', 'clothing', 'local', 'fibres', '.', 'Gandhi', 'modified', 'flag', 'adding', 'white', 'stripe', 'centre', 'religious', 'communities', 'India', ',', 'thus', 'also', 'providing', 'clearly', 'visible', 'background', 'spinning', 'wheel', '.', 'In', 'May', '1923', 'Nagpur', ',', 'peaceful', 'protests', 'British', 'rule', ',', 'flag', 'carried', 'thousands', 'people', ',', 'hundreds', 'arrested', '.', 'The', 'Congress', 'flag', 'came', 'associated', 'nationhood', 'India', ',', 'officially', 'recognized', 'annual', 'meeting', 'party', 'August', '1931', '.', 'At', 'time', ',', 'current', 'arrangement', 'stripes', 'use', 'deep', 'saffron', 'instead', 'red', 'approved', '.', 'To', 'avoid', 'sectarian', 'associations', 'original', 'proposal', ',', 'new', 'attributions', 'associated', 'saffron', ',', 'white', ',', 'green', 'stripes', '.', 'They', 'said', 'stand', ',', 'respectively', ',', 'courage', 'sacrifice', ',', 'peace', 'truth', ',', 'faith', 'chivalry', '.', 'During', 'World', 'War', 'II', 'Subhas', 'Chandra', 'Bose', 'used', 'flag', '(', 'without', 'spinning', 'wheel', ')', 'territories', 'Japanese-aided', 'army', 'captured', '.']\n",
      "['for', 'decad', 'all-india', 'congress', 'leadership', 'mohanda', 'k.', 'gandhi', 'struggl', 'ralli', 'million', 'british-rul', 'peopl', 'indian', 'subcontin', '.', 'like', 'similar', 'movement', 'countri', ',', 'earli', 'felt', 'need', 'distinct', 'symbol', 'could', 'repres', 'nationalist', 'object', '.', 'in', '1921', 'univers', 'lectur', 'name', 'pingali', '(', 'pinglay', ')', 'venkayya', 'present', 'flag', 'design', 'gandhi', 'consist', 'colour', 'associ', 'two', 'princip', 'religion', ',', 'red', 'hindu', 'green', 'muslim', '.', 'to', 'centr', 'horizont', 'divid', 'flag', ',', 'lala', 'han', 'raj', 'sondhi', 'suggest', 'addit', 'tradit', 'spin', 'wheel', ',', 'associ', 'gandhi', '’', 'crusad', 'make', 'indian', 'self-reli', 'fabric', 'cloth', 'local', 'fibr', '.', 'gandhi', 'modifi', 'flag', 'ad', 'white', 'stripe', 'centr', 'religi', 'commun', 'india', ',', 'thu', 'also', 'provid', 'clearli', 'visibl', 'background', 'spin', 'wheel', '.', 'in', 'may', '1923', 'nagpur', ',', 'peac', 'protest', 'british', 'rule', ',', 'flag', 'carri', 'thousand', 'peopl', ',', 'hundr', 'arrest', '.', 'the', 'congress', 'flag', 'came', 'associ', 'nationhood', 'india', ',', 'offici', 'recogn', 'annual', 'meet', 'parti', 'august', '1931', '.', 'at', 'time', ',', 'current', 'arrang', 'stripe', 'use', 'deep', 'saffron', 'instead', 'red', 'approv', '.', 'to', 'avoid', 'sectarian', 'associ', 'origin', 'propos', ',', 'new', 'attribut', 'associ', 'saffron', ',', 'white', ',', 'green', 'stripe', '.', 'they', 'said', 'stand', ',', 'respect', ',', 'courag', 'sacrific', ',', 'peac', 'truth', ',', 'faith', 'chivalri', '.', 'dure', 'world', 'war', 'ii', 'subha', 'chandra', 'bose', 'use', 'flag', '(', 'without', 'spin', 'wheel', ')', 'territori', 'japanese-aid', 'armi', 'captur', '.']\n"
     ]
    }
   ],
   "source": [
    "from nltk.stem import PorterStemmer\n",
    "stem_words=[]\n",
    "porste=PorterStemmer()\n",
    "for j in filtered:\n",
    "    rootWord=porste.stem(j)\n",
    "    stem_words.append(rootWord)\n",
    "print(filtered)\n",
    "print(stem_words)"
   ]
  },
  {
   "cell_type": "code",
   "execution_count": 43,
   "id": "bc2de9f1",
   "metadata": {},
   "outputs": [
    {
     "name": "stderr",
     "output_type": "stream",
     "text": [
      "[nltk_data] Downloading package wordnet to\n",
      "[nltk_data]     C:\\Users\\ACER\\AppData\\Roaming\\nltk_data...\n",
      "[nltk_data]   Package wordnet is already up-to-date!\n"
     ]
    },
    {
     "data": {
      "text/plain": [
       "True"
      ]
     },
     "execution_count": 43,
     "metadata": {},
     "output_type": "execute_result"
    }
   ],
   "source": [
    "from nltk.stem import WordNetLemmatizer\n",
    "nltk.download('wordnet')"
   ]
  },
  {
   "cell_type": "code",
   "execution_count": 45,
   "id": "10a08e3e",
   "metadata": {
    "scrolled": false
   },
   "outputs": [
    {
     "name": "stdout",
     "output_type": "stream",
     "text": [
      "['For', 'decade', 'All-India', 'Congress', 'leadership', 'Mohandas', 'K.', 'Gandhi', 'struggle', 'rally', 'million', 'British-ruled', 'people', 'Indian', 'subcontinent', '.', 'Like', 'similar', 'movement', 'country', ',', 'early', 'felt', 'need', 'distinctive', 'symbol', 'could', 'represent', 'nationalist', 'objective', '.', 'In', '1921', 'university', 'lecturer', 'name', 'Pingali', '(', 'Pinglay', ')', 'Venkayya', 'present', 'flag', 'design', 'Gandhi', 'consist', 'colour', 'associate', 'two', 'principal', 'religion', ',', 'red', 'Hindus', 'green', 'Muslims', '.', 'To', 'centre', 'horizontally', 'divide', 'flag', ',', 'Lala', 'Hans', 'Raj', 'Sondhi', 'suggest', 'addition', 'traditional', 'spin', 'wheel', ',', 'associate', 'Gandhi', '’', 'crusade', 'make', 'Indians', 'self-reliant', 'fabricate', 'clothe', 'local', 'fibre', '.', 'Gandhi', 'modify', 'flag', 'add', 'white', 'stripe', 'centre', 'religious', 'community', 'India', ',', 'thus', 'also', 'provide', 'clearly', 'visible', 'background', 'spin', 'wheel', '.', 'In', 'May', '1923', 'Nagpur', ',', 'peaceful', 'protest', 'British', 'rule', ',', 'flag', 'carry', 'thousand', 'people', ',', 'hundred', 'arrest', '.', 'The', 'Congress', 'flag', 'come', 'associate', 'nationhood', 'India', ',', 'officially', 'recognize', 'annual', 'meet', 'party', 'August', '1931', '.', 'At', 'time', ',', 'current', 'arrangement', 'stripe', 'use', 'deep', 'saffron', 'instead', 'red', 'approve', '.', 'To', 'avoid', 'sectarian', 'association', 'original', 'proposal', ',', 'new', 'attribution', 'associate', 'saffron', ',', 'white', ',', 'green', 'stripe', '.', 'They', 'say', 'stand', ',', 'respectively', ',', 'courage', 'sacrifice', ',', 'peace', 'truth', ',', 'faith', 'chivalry', '.', 'During', 'World', 'War', 'II', 'Subhas', 'Chandra', 'Bose', 'use', 'flag', '(', 'without', 'spin', 'wheel', ')', 'territory', 'Japanese-aided', 'army', 'capture', '.']\n"
     ]
    }
   ],
   "source": [
    "lemma_word=[]\n",
    "wordnet_lemmatizer=WordNetLemmatizer()\n",
    "for w in filtered:\n",
    "    word1 = wordnet_lemmatizer.lemmatize(w, pos = \"n\")\n",
    "    word2 = wordnet_lemmatizer.lemmatize(word1, pos = \"v\")\n",
    "    word3 = wordnet_lemmatizer.lemmatize(word2, pos = (\"a\"))\n",
    "    lemma_word.append(word3)\n",
    "print(lemma_word)"
   ]
  },
  {
   "cell_type": "markdown",
   "id": "3a6e5f14",
   "metadata": {},
   "source": [
    "## Q2). Copy the paragraph and apply the bag-of-words approach; Also, identify the bag-of vector for each sentence.\n",
    "\n",
    "Construction of the mausoleum was essentially completed in 1643. but work continued on \n",
    "other phases of the project for another 10 years. The Taj Mahal complex is believed to have \n",
    "been completed in its entirety in 1653 at a cost estimated at the time to be around 32 million.\n",
    "The construction project employed some 20,000 artisans under the guidance of a board of \n",
    "architects led by the court architect to the emperor, Ustad Ahmad Lahauri. Various types of \n",
    "symbolism have been employed in the Taj to reflect natural beauty and divinity."
   ]
  },
  {
   "cell_type": "code",
   "execution_count": 1,
   "id": "04491edf",
   "metadata": {},
   "outputs": [
    {
     "name": "stderr",
     "output_type": "stream",
     "text": [
      "[nltk_data] Downloading package punkt to\n",
      "[nltk_data]     C:\\Users\\ACER\\AppData\\Roaming\\nltk_data...\n",
      "[nltk_data]   Package punkt is already up-to-date!\n"
     ]
    },
    {
     "data": {
      "text/plain": [
       "True"
      ]
     },
     "execution_count": 1,
     "metadata": {},
     "output_type": "execute_result"
    }
   ],
   "source": [
    "# import libraries\n",
    "import nltk\n",
    "import re\n",
    "import numpy as np\n",
    "nltk.download('punkt')"
   ]
  },
  {
   "cell_type": "code",
   "execution_count": 17,
   "id": "b615ced7",
   "metadata": {},
   "outputs": [
    {
     "data": {
      "text/plain": [
       "['construction of the mausoleum was essentially completed in 1643 but work continued on other phases of the project for another 10 years ',\n",
       " 'the taj mahal complex is believed to have been completed in its entirety in 1653 at a cost estimated at the time to be around 32 million ',\n",
       " 'the construction project employed some 20 000 artisans under the guidance of a board of architects led by the court architect to the emperor ustad ahmad lahauri ',\n",
       " 'various types of symbolism have been employed in the taj to reflect natural beauty and divinity ']"
      ]
     },
     "execution_count": 17,
     "metadata": {},
     "output_type": "execute_result"
    }
   ],
   "source": [
    "text=\"\"\"Construction of the mausoleum was essentially completed in 1643. but work continued on \n",
    "other phases of the project for another 10 years. The Taj Mahal complex is believed to have \n",
    "been completed in its entirety in 1653 at a cost estimated at the time to be around 32 million.\n",
    "The construction project employed some 20,000 artisans under the guidance of a board of \n",
    "architects led by the court architect to the emperor, Ustad Ahmad Lahauri. Various types of \n",
    "symbolism have been employed in the Taj to reflect natural beauty and divinity.\"\"\"\n",
    "\n",
    "data=nltk.sent_tokenize(text)\n",
    "\n",
    "#converting the text into lower case and removing non-word characters and punctuations also\n",
    "for i in range(len(data)):\n",
    "    data[i] = data[i].lower()\n",
    "    data[i] = re.sub(r'\\W', ' ', data[i])\n",
    "    data[i] = re.sub(r'\\s+', ' ', data[i])\n",
    "data"
   ]
  },
  {
   "cell_type": "code",
   "execution_count": 20,
   "id": "3b23449e",
   "metadata": {
    "scrolled": true
   },
   "outputs": [
    {
     "data": {
      "text/plain": [
       "{'construction': 2,\n",
       " 'of': 5,\n",
       " 'the': 9,\n",
       " 'mausoleum': 1,\n",
       " 'was': 1,\n",
       " 'essentially': 1,\n",
       " 'completed': 2,\n",
       " 'in': 4,\n",
       " '1643': 1,\n",
       " 'but': 1,\n",
       " 'work': 1,\n",
       " 'continued': 1,\n",
       " 'on': 1,\n",
       " 'other': 1,\n",
       " 'phases': 1,\n",
       " 'project': 2,\n",
       " 'for': 1,\n",
       " 'another': 1,\n",
       " '10': 1,\n",
       " 'years': 1,\n",
       " 'taj': 2,\n",
       " 'mahal': 1,\n",
       " 'complex': 1,\n",
       " 'is': 1,\n",
       " 'believed': 1,\n",
       " 'to': 4,\n",
       " 'have': 2,\n",
       " 'been': 2,\n",
       " 'its': 1,\n",
       " 'entirety': 1,\n",
       " '1653': 1,\n",
       " 'at': 2,\n",
       " 'a': 2,\n",
       " 'cost': 1,\n",
       " 'estimated': 1,\n",
       " 'time': 1,\n",
       " 'be': 1,\n",
       " 'around': 1,\n",
       " '32': 1,\n",
       " 'million': 1,\n",
       " 'employed': 2,\n",
       " 'some': 1,\n",
       " '20': 1,\n",
       " '000': 1,\n",
       " 'artisans': 1,\n",
       " 'under': 1,\n",
       " 'guidance': 1,\n",
       " 'board': 1,\n",
       " 'architects': 1,\n",
       " 'led': 1,\n",
       " 'by': 1,\n",
       " 'court': 1,\n",
       " 'architect': 1,\n",
       " 'emperor': 1,\n",
       " 'ustad': 1,\n",
       " 'ahmad': 1,\n",
       " 'lahauri': 1,\n",
       " 'various': 1,\n",
       " 'types': 1,\n",
       " 'symbolism': 1,\n",
       " 'reflect': 1,\n",
       " 'natural': 1,\n",
       " 'beauty': 1,\n",
       " 'and': 1,\n",
       " 'divinity': 1}"
      ]
     },
     "execution_count": 20,
     "metadata": {},
     "output_type": "execute_result"
    }
   ],
   "source": [
    "# creating a bag words to hold the words and their counts\n",
    "word_count={}\n",
    "for d in data:\n",
    "    words=nltk.word_tokenize(d)\n",
    "    for word in words:\n",
    "        if word not in word_count.keys():\n",
    "            word_count[word]=1\n",
    "        else:\n",
    "            word_count[word]+=1\n",
    "word_count"
   ]
  },
  {
   "cell_type": "code",
   "execution_count": 22,
   "id": "678a32e6",
   "metadata": {},
   "outputs": [
    {
     "data": {
      "text/plain": [
       "65"
      ]
     },
     "execution_count": 22,
     "metadata": {},
     "output_type": "execute_result"
    }
   ],
   "source": [
    "#count the items\n",
    "len(word_count)"
   ]
  },
  {
   "cell_type": "code",
   "execution_count": 23,
   "id": "fa91ae07",
   "metadata": {},
   "outputs": [
    {
     "data": {
      "text/plain": [
       "['the',\n",
       " 'of',\n",
       " 'in',\n",
       " 'to',\n",
       " 'construction',\n",
       " 'completed',\n",
       " 'project',\n",
       " 'taj',\n",
       " 'have',\n",
       " 'been',\n",
       " 'at',\n",
       " 'a',\n",
       " 'employed',\n",
       " 'mausoleum',\n",
       " 'was',\n",
       " 'essentially',\n",
       " '1643',\n",
       " 'but',\n",
       " 'work',\n",
       " 'continued',\n",
       " 'on',\n",
       " 'other',\n",
       " 'phases',\n",
       " 'for',\n",
       " 'another',\n",
       " '10',\n",
       " 'years',\n",
       " 'mahal',\n",
       " 'complex',\n",
       " 'is']"
      ]
     },
     "execution_count": 23,
     "metadata": {},
     "output_type": "execute_result"
    }
   ],
   "source": [
    "# taking the most frequently used words\n",
    "import heapq\n",
    "\n",
    "# lets choose 30 most frequent words\n",
    "\n",
    "freq_words=heapq.nlargest(30, word_count, key=word_count.get)\n",
    "freq_words"
   ]
  },
  {
   "cell_type": "code",
   "execution_count": 26,
   "id": "a0fc5cb7",
   "metadata": {},
   "outputs": [
    {
     "data": {
      "text/plain": [
       "array([[1, 1, 1, 0, 1, 1, 1, 0, 0, 0, 0, 0, 0, 1, 1, 1, 1, 1, 1, 1, 1, 1,\n",
       "        1, 1, 1, 1, 1, 0, 0, 0],\n",
       "       [1, 0, 1, 1, 0, 1, 0, 1, 1, 1, 1, 1, 0, 0, 0, 0, 0, 0, 0, 0, 0, 0,\n",
       "        0, 0, 0, 0, 0, 1, 1, 1],\n",
       "       [1, 1, 0, 1, 1, 0, 1, 0, 0, 0, 0, 1, 1, 0, 0, 0, 0, 0, 0, 0, 0, 0,\n",
       "        0, 0, 0, 0, 0, 0, 0, 0],\n",
       "       [1, 1, 1, 1, 0, 0, 0, 1, 1, 1, 0, 0, 1, 0, 0, 0, 0, 0, 0, 0, 0, 0,\n",
       "        0, 0, 0, 0, 0, 0, 0, 0]])"
      ]
     },
     "execution_count": 26,
     "metadata": {},
     "output_type": "execute_result"
    }
   ],
   "source": [
    "# finding the bag of vector\n",
    "x=[]\n",
    "for d in data:\n",
    "    vector=[]\n",
    "    for word in freq_words:\n",
    "        if word in nltk.word_tokenize(d):\n",
    "            vector.append(1)\n",
    "        else:\n",
    "            vector.append(0)\n",
    "    x.append(vector)\n",
    "x=np.asarray(x)\n",
    "x"
   ]
  },
  {
   "cell_type": "markdown",
   "id": "5c914e87",
   "metadata": {},
   "source": [
    "## Q3). Copy the paragraph and apply TFIDF method and find the feature vector for each sentence.\n",
    "\n",
    "Referred to as the Venice of the East, Alappuzha has always enjoyed an important place \n",
    "in the maritime history of Kerala. Today, it is famous for its boat races, backwater holidays, \n",
    "beaches, marine products and coir industry. Alappuzha Beach is a popular picnic spot."
   ]
  },
  {
   "cell_type": "code",
   "execution_count": 27,
   "id": "0e303b3a",
   "metadata": {},
   "outputs": [],
   "source": [
    "# import ibraries\n",
    "import pandas as pd\n",
    "from nltk.tokenize import word_tokenize, sent_tokenize\n",
    "from nltk.corpus import stopwords\n",
    "from sklearn.feature_extraction.text import TfidfVectorizer\n"
   ]
  },
  {
   "cell_type": "code",
   "execution_count": 30,
   "id": "4b1d0996",
   "metadata": {},
   "outputs": [
    {
     "data": {
      "text/plain": [
       "['referred to as the venice of the east, alappuzha has always enjoyed an important place \\nin the maritime history of kerala.',\n",
       " 'today, it is famous for its boat races, backwater holidays, \\nbeaches, marine products and coir industry.',\n",
       " 'alappuzha beach is a popular picnic spot.']"
      ]
     },
     "execution_count": 30,
     "metadata": {},
     "output_type": "execute_result"
    }
   ],
   "source": [
    "text=\"\"\"Referred to as the Venice of the East, Alappuzha has always enjoyed an important place \n",
    "in the maritime history of Kerala. Today, it is famous for its boat races, backwater holidays, \n",
    "beaches, marine products and coir industry. Alappuzha Beach is a popular picnic spot.\"\"\"\n",
    "\n",
    "#converting to lower case\n",
    "lower_text=text.lower()\n",
    "sents=sent_tokenize(lower_text)\n",
    "sents"
   ]
  },
  {
   "cell_type": "code",
   "execution_count": 32,
   "id": "de64b351",
   "metadata": {},
   "outputs": [
    {
     "data": {
      "text/plain": [
       "['referred venice east , alappuzha always enjoyed important place maritime history kerala . today , famous boat races , backwater holidays , beaches , marine products coir industry . alappuzha beach popular picnic spot .']"
      ]
     },
     "execution_count": 32,
     "metadata": {},
     "output_type": "execute_result"
    }
   ],
   "source": [
    "for sent in sents:\n",
    "    words=word_tokenize(lower_text)   # word tokenizing the text\n",
    "    words=[word for word in words if word not in stopwords.words(\"english\")]  # removing stop words\n",
    "    lower_text= \" \".join(words)\n",
    "lower_text=[lower_text]\n",
    "lower_text"
   ]
  },
  {
   "cell_type": "code",
   "execution_count": 33,
   "id": "8f525ae5",
   "metadata": {},
   "outputs": [
    {
     "name": "stdout",
     "output_type": "stream",
     "text": [
      "  (0, 23)\t0.18569533817705186\n",
      "  (0, 17)\t0.18569533817705186\n",
      "  (0, 19)\t0.18569533817705186\n",
      "  (0, 3)\t0.18569533817705186\n",
      "  (0, 13)\t0.18569533817705186\n",
      "  (0, 6)\t0.18569533817705186\n",
      "  (0, 20)\t0.18569533817705186\n",
      "  (0, 15)\t0.18569533817705186\n",
      "  (0, 4)\t0.18569533817705186\n",
      "  (0, 11)\t0.18569533817705186\n",
      "  (0, 2)\t0.18569533817705186\n",
      "  (0, 21)\t0.18569533817705186\n",
      "  (0, 5)\t0.18569533817705186\n",
      "  (0, 9)\t0.18569533817705186\n",
      "  (0, 24)\t0.18569533817705186\n",
      "  (0, 14)\t0.18569533817705186\n",
      "  (0, 10)\t0.18569533817705186\n",
      "  (0, 16)\t0.18569533817705186\n",
      "  (0, 18)\t0.18569533817705186\n",
      "  (0, 12)\t0.18569533817705186\n",
      "  (0, 8)\t0.18569533817705186\n",
      "  (0, 1)\t0.18569533817705186\n",
      "  (0, 0)\t0.3713906763541037\n",
      "  (0, 7)\t0.18569533817705186\n",
      "  (0, 25)\t0.18569533817705186\n",
      "  (0, 22)\t0.18569533817705186\n"
     ]
    }
   ],
   "source": [
    "vectorizer = TfidfVectorizer()\n",
    "tfidf_model = vectorizer.fit_transform(lower_text)\n",
    "print(tfidf_model)"
   ]
  },
  {
   "cell_type": "code",
   "execution_count": 34,
   "id": "90f5ed4b",
   "metadata": {},
   "outputs": [
    {
     "name": "stdout",
     "output_type": "stream",
     "text": [
      "[[0.37139068 0.18569534 0.18569534 0.18569534 0.18569534 0.18569534\n",
      "  0.18569534 0.18569534 0.18569534 0.18569534 0.18569534 0.18569534\n",
      "  0.18569534 0.18569534 0.18569534 0.18569534 0.18569534 0.18569534\n",
      "  0.18569534 0.18569534 0.18569534 0.18569534 0.18569534 0.18569534\n",
      "  0.18569534 0.18569534]]\n"
     ]
    }
   ],
   "source": [
    "print(tfidf_model.toarray())"
   ]
  },
  {
   "cell_type": "code",
   "execution_count": 40,
   "id": "0f894f7f",
   "metadata": {},
   "outputs": [
    {
     "data": {
      "text/html": [
       "<div>\n",
       "<style scoped>\n",
       "    .dataframe tbody tr th:only-of-type {\n",
       "        vertical-align: middle;\n",
       "    }\n",
       "\n",
       "    .dataframe tbody tr th {\n",
       "        vertical-align: top;\n",
       "    }\n",
       "\n",
       "    .dataframe thead th {\n",
       "        text-align: right;\n",
       "    }\n",
       "</style>\n",
       "<table border=\"1\" class=\"dataframe\">\n",
       "  <thead>\n",
       "    <tr style=\"text-align: right;\">\n",
       "      <th></th>\n",
       "      <th>alappuzha</th>\n",
       "      <th>always</th>\n",
       "      <th>backwater</th>\n",
       "      <th>beach</th>\n",
       "      <th>beaches</th>\n",
       "      <th>boat</th>\n",
       "      <th>coir</th>\n",
       "      <th>east</th>\n",
       "      <th>enjoyed</th>\n",
       "      <th>famous</th>\n",
       "      <th>...</th>\n",
       "      <th>maritime</th>\n",
       "      <th>picnic</th>\n",
       "      <th>place</th>\n",
       "      <th>popular</th>\n",
       "      <th>products</th>\n",
       "      <th>races</th>\n",
       "      <th>referred</th>\n",
       "      <th>spot</th>\n",
       "      <th>today</th>\n",
       "      <th>venice</th>\n",
       "    </tr>\n",
       "  </thead>\n",
       "  <tbody>\n",
       "    <tr>\n",
       "      <th>0</th>\n",
       "      <td>0.371391</td>\n",
       "      <td>0.185695</td>\n",
       "      <td>0.185695</td>\n",
       "      <td>0.185695</td>\n",
       "      <td>0.185695</td>\n",
       "      <td>0.185695</td>\n",
       "      <td>0.185695</td>\n",
       "      <td>0.185695</td>\n",
       "      <td>0.185695</td>\n",
       "      <td>0.185695</td>\n",
       "      <td>...</td>\n",
       "      <td>0.185695</td>\n",
       "      <td>0.185695</td>\n",
       "      <td>0.185695</td>\n",
       "      <td>0.185695</td>\n",
       "      <td>0.185695</td>\n",
       "      <td>0.185695</td>\n",
       "      <td>0.185695</td>\n",
       "      <td>0.185695</td>\n",
       "      <td>0.185695</td>\n",
       "      <td>0.185695</td>\n",
       "    </tr>\n",
       "  </tbody>\n",
       "</table>\n",
       "<p>1 rows × 26 columns</p>\n",
       "</div>"
      ],
      "text/plain": [
       "   alappuzha    always  backwater     beach   beaches      boat      coir  \\\n",
       "0   0.371391  0.185695   0.185695  0.185695  0.185695  0.185695  0.185695   \n",
       "\n",
       "       east   enjoyed    famous  ...  maritime    picnic     place   popular  \\\n",
       "0  0.185695  0.185695  0.185695  ...  0.185695  0.185695  0.185695  0.185695   \n",
       "\n",
       "   products     races  referred      spot     today    venice  \n",
       "0  0.185695  0.185695  0.185695  0.185695  0.185695  0.185695  \n",
       "\n",
       "[1 rows x 26 columns]"
      ]
     },
     "execution_count": 40,
     "metadata": {},
     "output_type": "execute_result"
    }
   ],
   "source": [
    "#to dataframe\n",
    "import pandas as pd\n",
    "\n",
    "# Assuming tfidf_model and vectorizer are already defined\n",
    "tfidf_matrix=tfidf_model.toarray()\n",
    "feature_names=vectorizer.get_feature_names_out()\n",
    "\n",
    "# Convert the TF-IDF matrix to a DataFrame\n",
    "tfidf_df=pd.DataFrame(tfidf_matrix, columns=feature_names)\n",
    "tfidf_df"
   ]
  },
  {
   "cell_type": "code",
   "execution_count": null,
   "id": "b123b7a0",
   "metadata": {},
   "outputs": [],
   "source": []
  }
 ],
 "metadata": {
  "kernelspec": {
   "display_name": "Python 3 (ipykernel)",
   "language": "python",
   "name": "python3"
  },
  "language_info": {
   "codemirror_mode": {
    "name": "ipython",
    "version": 3
   },
   "file_extension": ".py",
   "mimetype": "text/x-python",
   "name": "python",
   "nbconvert_exporter": "python",
   "pygments_lexer": "ipython3",
   "version": "3.9.13"
  }
 },
 "nbformat": 4,
 "nbformat_minor": 5
}
